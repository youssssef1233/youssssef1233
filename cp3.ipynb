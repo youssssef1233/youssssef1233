{
 "cells": [
  {
   "cell_type": "code",
   "execution_count": 3,
   "id": "130af5de",
   "metadata": {
    "collapsed": true
   },
   "outputs": [
    {
     "ename": "SyntaxError",
     "evalue": "invalid syntax (<ipython-input-3-f822c813a2b4>, line 3)",
     "output_type": "error",
     "traceback": [
      "\u001b[1;36m  File \u001b[1;32m\"<ipython-input-3-f822c813a2b4>\"\u001b[1;36m, line \u001b[1;32m3\u001b[0m\n\u001b[1;33m    return (x): max_of_three\u001b[0m\n\u001b[1;37m              ^\u001b[0m\n\u001b[1;31mSyntaxError\u001b[0m\u001b[1;31m:\u001b[0m invalid syntax\n"
     ]
    }
   ],
   "source": [
    "def max_of_three (x,y,z): \n",
    "    if (x) > (y) and (z):\n",
    "        return (x): max_of_three \n",
    "    if (y) > (x) and (z):\n",
    "        return(y): max_of_three\n",
    "    if(z) > (x) and (y):\n",
    "        return(z): max_of_three\n",
    "print (max_of_trhee (10,15,22))"
   ]
  },
  {
   "cell_type": "code",
   "execution_count": 18,
   "id": "b37d289e",
   "metadata": {},
   "outputs": [
    {
     "name": "stdout",
     "output_type": "stream",
     "text": [
      "50\n",
      "30\n"
     ]
    }
   ],
   "source": [
    "\n",
    "    sum = lambda a,b : a+b\n",
    "print(sum(40,10)) \n",
    "    sum = lambda a,b : a-b\n",
    "print(sum(40,10)) "
   ]
  },
  {
   "cell_type": "code",
   "execution_count": 23,
   "id": "21345ed2",
   "metadata": {
    "collapsed": true
   },
   "outputs": [
    {
     "ename": "SyntaxError",
     "evalue": "invalid syntax (<ipython-input-23-45135c18780a>, line 7)",
     "output_type": "error",
     "traceback": [
      "\u001b[1;36m  File \u001b[1;32m\"<ipython-input-23-45135c18780a>\"\u001b[1;36m, line \u001b[1;32m7\u001b[0m\n\u001b[1;33m    print listsum([2,3,4])\u001b[0m\n\u001b[1;37m          ^\u001b[0m\n\u001b[1;31mSyntaxError\u001b[0m\u001b[1;31m:\u001b[0m invalid syntax\n"
     ]
    }
   ],
   "source": [
    "def listsum(list):\n",
    "    ret=0\n",
    "    for i in list:\n",
    "        ret += i\n",
    "    return ret\n",
    "\n",
    "print listsum([2,3,4])  "
   ]
  },
  {
   "cell_type": "code",
   "execution_count": 25,
   "id": "20f7abdb",
   "metadata": {},
   "outputs": [
    {
     "name": "stdout",
     "output_type": "stream",
     "text": [
      "green-red-yellow-black-white\n",
      "black-green-red-white-yellow\n"
     ]
    }
   ],
   "source": [
    "items=[n for n in input().split('-')]\n",
    "items.sort()\n",
    "print('-'.join(items))"
   ]
  },
  {
   "cell_type": "code",
   "execution_count": null,
   "id": "57b53609",
   "metadata": {},
   "outputs": [],
   "source": []
  }
 ],
 "metadata": {
  "kernelspec": {
   "display_name": "Python 3",
   "language": "python",
   "name": "python3"
  },
  "language_info": {
   "codemirror_mode": {
    "name": "ipython",
    "version": 3
   },
   "file_extension": ".py",
   "mimetype": "text/x-python",
   "name": "python",
   "nbconvert_exporter": "python",
   "pygments_lexer": "ipython3",
   "version": "3.8.8"
  }
 },
 "nbformat": 4,
 "nbformat_minor": 5
}

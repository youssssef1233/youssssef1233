{
 "cells": [
  {
   "cell_type": "code",
   "execution_count": 1,
   "id": "7a3fd467",
   "metadata": {},
   "outputs": [
    {
     "name": "stdout",
     "output_type": "stream",
     "text": [
      "(1, 2, 3)\n"
     ]
    }
   ],
   "source": [
    "class Point3D(object):\n",
    "    def __init__(self,x,y,z):\n",
    "        self.x=x\n",
    "        self.y=y\n",
    "        self.z=z\n",
    "\n",
    "    def __repr__(self) :\n",
    "        return \"(%d, %d, %d)\" % (self.x, self.y, self.z)\n",
    "    \n",
    "my_point = Point3D(1,2,3)\n",
    "print (my_point)"
   ]
  },
  {
   "cell_type": "code",
   "execution_count": 7,
   "id": "12cec2b1",
   "metadata": {},
   "outputs": [
    {
     "name": "stdout",
     "output_type": "stream",
     "text": [
      "120\n",
      "44\n"
     ]
    }
   ],
   "source": [
    "class Rectangle():\n",
    "    def __init__(self, l, w):\n",
    "        self.length = l\n",
    "        self.width  = w\n",
    "\n",
    "    def rectangle_area(self):\n",
    "        return self.length*self.width\n",
    "    \n",
    "    def rectangle_perimetre(self):\n",
    "          return self.length*2 + self.width*2\n",
    "    \n",
    "newRectangle = Rectangle(12, 10)\n",
    "print(newRectangle.rectangle_area())\n",
    "print(newRectangle.rectangle_perimetre())"
   ]
  },
  {
   "cell_type": "code",
   "execution_count": 3,
   "id": "84b68d18",
   "metadata": {},
   "outputs": [
    {
     "name": "stdout",
     "output_type": "stream",
     "text": [
      "200.96\n",
      "50.24\n"
     ]
    }
   ],
   "source": [
    "class Circle():\n",
    "    def __init__(self, r):\n",
    "        self.radius = r\n",
    "\n",
    "    def area(self):\n",
    "        return self.radius**2*3.14\n",
    "    \n",
    "    def perimeter(self):\n",
    "        return 2*self.radius*3.14\n",
    "\n",
    "NewCircle = Circle(8)\n",
    "print(NewCircle.area())\n",
    "print(NewCircle.perimeter())"
   ]
  },
  {
   "cell_type": "code",
   "execution_count": 14,
   "id": "188b132d",
   "metadata": {},
   "outputs": [
    {
     "ename": "IndentationError",
     "evalue": "expected an indented block (<ipython-input-14-09b1566ff966>, line 2)",
     "output_type": "error",
     "traceback": [
      "\u001b[1;36m  File \u001b[1;32m\"<ipython-input-14-09b1566ff966>\"\u001b[1;36m, line \u001b[1;32m2\u001b[0m\n\u001b[1;33m    def _init_(self):\u001b[0m\n\u001b[1;37m    ^\u001b[0m\n\u001b[1;31mIndentationError\u001b[0m\u001b[1;31m:\u001b[0m expected an indented block\n"
     ]
    }
   ],
   "source": [
    "class Account:\n",
    "def _init_(self):\n",
    "self.balance=0\n",
    "print('Your Account is Created.')\n",
    "def deposit(self):\n",
    "amount=int(input('Enter the amount to deposit:'))\n",
    "self.balance+=amount\n",
    "print('Your New Balance =%d' %self.balance)\n",
    "def withdraw(self):\n",
    "amount=int(input('Enter the amount to withdraw:'))\n",
    "if(amount>self.balance):\n",
    "print('Insufficient Balance!')\n",
    "else:\n",
    "self.balance-=amount\n",
    "print('Your Remaining Balance =%d' %self.balance)\n",
    "def enquiry(self):\n",
    "print('Your Balance =%d' %self.balance)\n",
    "account= Account()\n",
    "account.deposit()\n",
    "account.withdraw()\n",
    "account.enquiry()"
   ]
  },
  {
   "cell_type": "code",
   "execution_count": null,
   "id": "ceb15118",
   "metadata": {},
   "outputs": [],
   "source": []
  }
 ],
 "metadata": {
  "kernelspec": {
   "display_name": "Python 3",
   "language": "python",
   "name": "python3"
  },
  "language_info": {
   "codemirror_mode": {
    "name": "ipython",
    "version": 3
   },
   "file_extension": ".py",
   "mimetype": "text/x-python",
   "name": "python",
   "nbconvert_exporter": "python",
   "pygments_lexer": "ipython3",
   "version": "3.8.8"
  }
 },
 "nbformat": 4,
 "nbformat_minor": 5
}

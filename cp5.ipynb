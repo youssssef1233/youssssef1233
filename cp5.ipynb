{
 "cells": [
  {
   "cell_type": "code",
   "execution_count": 4,
   "id": "2dce5432",
   "metadata": {
    "collapsed": true
   },
   "outputs": [
    {
     "name": "stdout",
     "output_type": "stream",
     "text": [
      "[1 2 3 5]\n",
      "[1, 2, 3, 5]\n"
     ]
    }
   ],
   "source": [
    "import numpy as np \n",
    "a= np.array([1,2,3,5])\n",
    "x=a.tolist()\n",
    "print(a)\n",
    "print(x)"
   ]
  },
  {
   "cell_type": "code",
   "execution_count": 6,
   "id": "f9dc1884",
   "metadata": {
    "collapsed": true
   },
   "outputs": [
    {
     "name": "stdout",
     "output_type": "stream",
     "text": [
      "[[6.]]\n",
      "[[4.]]\n",
      "[[10.]]\n"
     ]
    }
   ],
   "source": [
    "import numpy as np\n",
    "x=np.array([[6]], dtype=np.float64)\n",
    "y=np.array([[4]], dtype=np.float64)\n",
    "z=np.array([[2]], dtype=np.float64)\n",
    "A=np.add(x, y, z)\n",
    "print(x)\n",
    "print(y)\n",
    "print(z)"
   ]
  },
  {
   "cell_type": "code",
   "execution_count": 2,
   "id": "a09931cc",
   "metadata": {
    "collapsed": true
   },
   "outputs": [
    {
     "name": "stdout",
     "output_type": "stream",
     "text": [
      "Original array: \n",
      "[[ 0 10 20]\n",
      " [20 30 40]]\n",
      " 10 = [20 20 30 40]\n",
      "(array([0, 1, 1, 1], dtype=int64), array([2, 0, 1, 2], dtype=int64))\n"
     ]
    }
   ],
   "source": [
    "import numpy as np\n",
    "x = np.array([[0, 10, 20], [20, 30, 40]])\n",
    "print(\"Original array: \")\n",
    "print(x)\n",
    "print(\" 10 =\", x[x>10])\n",
    "print( np.nonzero(x > 10))"
   ]
  },
  {
   "cell_type": "code",
   "execution_count": 17,
   "id": "19678e2d",
   "metadata": {
    "collapsed": true
   },
   "outputs": [
    {
     "ename": "SyntaxError",
     "evalue": "invalid syntax (<ipython-input-17-5e0ec605e72d>, line 2)",
     "output_type": "error",
     "traceback": [
      "\u001b[1;36m  File \u001b[1;32m\"<ipython-input-17-5e0ec605e72d>\"\u001b[1;36m, line \u001b[1;32m2\u001b[0m\n\u001b[1;33m    input: A[]{4, 1, 2, 1, 1, 2} , B[]= ({4, 1, 2, 1, 1, 2})\u001b[0m\n\u001b[1;37m             ^\u001b[0m\n\u001b[1;31mSyntaxError\u001b[0m\u001b[1;31m:\u001b[0m invalid syntax\n"
     ]
    }
   ],
   "source": [
    "import nu.mpy as np\n",
    "input: A[]{4, 1, 2, 1, 1, 2} , B[]= ({4, 1, 2, 1, 1, 2})\n",
    "        C = np.array[] =({5, 9, 5, 1, 2, 3}) \n",
    "        print(\"array:\")\n",
    "        print(C)\n",
    "        print(A=B)\n",
    "        add C to A and B"
   ]
  },
  {
   "cell_type": "code",
   "execution_count": 18,
   "id": "75e5acf2",
   "metadata": {},
   "outputs": [
    {
     "name": "stdout",
     "output_type": "stream",
     "text": [
      "Original matrix:\n",
      "\n",
      "[[0.23619374 0.12653621 0.03869197 0.90368401 0.70564361 0.77417831\n",
      "  0.64261897 0.2029923  0.36775604 0.30393688]\n",
      " [0.86760504 0.73116692 0.07213351 0.1963393  0.93431795 0.85601987\n",
      "  0.01607526 0.24535299 0.10093507 0.46874607]\n",
      " [0.79345966 0.32729243 0.35974289 0.48341105 0.00278428 0.57790458\n",
      "  0.65874012 0.3085398  0.01345704 0.36973301]\n",
      " [0.54668204 0.0748319  0.45725059 0.80739821 0.55269322 0.3386472\n",
      "  0.42578177 0.64703038 0.62360731 0.87111123]\n",
      " [0.23133476 0.10857535 0.65929947 0.39780139 0.68237156 0.60757834\n",
      "  0.60087868 0.3356318  0.12799019 0.47041935]]\n",
      "\n",
      "Subtract the mean of each row of the said matrix:\n",
      "\n",
      "[[-0.19402946 -0.30368699 -0.39153123  0.47346081  0.27542041  0.3439551\n",
      "   0.21239576 -0.2272309  -0.06246716 -0.12628632]\n",
      " [ 0.41873584  0.28229773 -0.37673569 -0.2525299   0.48544875  0.40715067\n",
      "  -0.43279394 -0.20351621 -0.34793413  0.01987687]\n",
      " [ 0.40395317 -0.06221405 -0.02976359  0.09390457 -0.38672221  0.1883981\n",
      "   0.26923363 -0.08096669 -0.37604945 -0.01977347]\n",
      " [ 0.01217865 -0.45967149 -0.0772528   0.27289483  0.01818984 -0.19585618\n",
      "  -0.10872161  0.112527    0.08910392  0.33660785]\n",
      " [-0.19085333 -0.31361274  0.23711138 -0.0243867   0.26018347  0.18539025\n",
      "   0.17869059 -0.08655628 -0.29419789  0.04823126]]\n"
     ]
    }
   ],
   "source": [
    "import numpy as np\n",
    "print(\"Original matrix:\\n\")\n",
    "X = np.random.rand(5, 10)\n",
    "print(X)\n",
    "print(\"\\nSubtract the mean of each row of the said matrix:\\n\")\n",
    "Y = X - X.mean(axis=1, keepdims=True)\n",
    "print(Y)"
   ]
  },
  {
   "cell_type": "code",
   "execution_count": null,
   "id": "0d3ba13e",
   "metadata": {},
   "outputs": [],
   "source": []
  },
  {
   "cell_type": "code",
   "execution_count": null,
   "id": "10a1972e",
   "metadata": {},
   "outputs": [],
   "source": []
  }
 ],
 "metadata": {
  "kernelspec": {
   "display_name": "Python 3",
   "language": "python",
   "name": "python3"
  },
  "language_info": {
   "codemirror_mode": {
    "name": "ipython",
    "version": 3
   },
   "file_extension": ".py",
   "mimetype": "text/x-python",
   "name": "python",
   "nbconvert_exporter": "python",
   "pygments_lexer": "ipython3",
   "version": "3.8.8"
  }
 },
 "nbformat": 4,
 "nbformat_minor": 5
}

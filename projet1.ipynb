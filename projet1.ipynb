{
 "cells": [
  {
   "cell_type": "code",
   "execution_count": 8,
   "id": "f16baa00",
   "metadata": {},
   "outputs": [
    {
     "name": "stdout",
     "output_type": "stream",
     "text": [
      "Player 1 name : youssef\n",
      "Player 2 name : zeineb\n",
      "Relationship status : Marriage\n"
     ]
    }
   ],
   "source": [
    "def remove_match_char(list1, list2):\n",
    "    for i in range(len(list1)) :\n",
    "        for j in range(len(list2)) :\n",
    "            if list1[i] == list2[j] :\n",
    "                c = list1[i]\n",
    "                list1.remove(c)\n",
    "                list2.remove(c)\n",
    "                list3 = list1 + [\"*\"] + list2\n",
    "                return [list3, True]\n",
    "    list3 = list1 + [\"*\"] + list2\n",
    "    return [list3, False]\n",
    "if __name__ == \"__main__\" :\n",
    "    p1 = input(\"Player 1 name : \")\n",
    "    p1 = p1.lower()\n",
    "    p1.replace(\" \", \"\")\n",
    "    p1_list = list(p1)\n",
    "    p2 = input(\"Player 2 name : \")\n",
    "    p2 = p2.lower()\n",
    "    p2.replace(\" \", \"\")\n",
    "    p2_list = list(p2)\n",
    "    proceed = True\n",
    "    while proceed :\n",
    "        ret_list = remove_match_char(p1_list, p2_list)\n",
    "        con_list = ret_list[0]\n",
    "        proceed = ret_list[1]\n",
    "        star_index = con_list.index(\"*\")\n",
    "        p1_list = con_list[ : star_index]\n",
    "        p2_list = con_list[star_index + 1 : ]\n",
    "    count = len(p1_list) + len(p2_list)\n",
    "    result = [\"Friends\", \"Love\", \"Affection\", \"Marriage\", \"Enemy\", \"Siblings\"]\n",
    "    while len(result) > 1 :\n",
    "        split_index = (count % len(result) - 1)\n",
    "        if split_index >= 0 :\n",
    "            right = result[split_index + 1 : ]\n",
    "            left = result[ : split_index]\n",
    "            result = right + left\n",
    "        else :\n",
    "            result = result[ : len(result) - 1]\n",
    "    print(\"Relationship status :\", result[0])"
   ]
  },
  {
   "cell_type": "code",
   "execution_count": null,
   "id": "8ab818ac",
   "metadata": {},
   "outputs": [],
   "source": []
  },
  {
   "cell_type": "code",
   "execution_count": null,
   "id": "8a4e19e7",
   "metadata": {},
   "outputs": [],
   "source": []
  }
 ],
 "metadata": {
  "kernelspec": {
   "display_name": "Python 3",
   "language": "python",
   "name": "python3"
  },
  "language_info": {
   "codemirror_mode": {
    "name": "ipython",
    "version": 3
   },
   "file_extension": ".py",
   "mimetype": "text/x-python",
   "name": "python",
   "nbconvert_exporter": "python",
   "pygments_lexer": "ipython3",
   "version": "3.8.8"
  }
 },
 "nbformat": 4,
 "nbformat_minor": 5
}
